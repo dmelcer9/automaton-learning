{
 "cells": [
  {
   "cell_type": "code",
   "execution_count": 1,
   "metadata": {
    "pycharm": {
     "name": "#%%\n"
    }
   },
   "outputs": [],
   "source": [
    "%load_ext autoreload\n",
    "%autoreload 2"
   ]
  },
  {
   "cell_type": "code",
   "execution_count": 2,
   "metadata": {
    "collapsed": true,
    "pycharm": {
     "name": "#%%\n"
    }
   },
   "outputs": [],
   "source": [
    "from automaton_learning.parsing import parse_files_in_data, parse_csv\n",
    "import numpy as np\n",
    "from automaton_learning.deepsynth_wrapper import wrapped_dfa_init, get_default_hparams, wrapped_dfa_update\n",
    "import graphviz\n",
    "from automaton_learning.utils import nodes_to_graph, get_feat_sequence"
   ]
  },
  {
   "cell_type": "code",
   "execution_count": 3,
   "metadata": {
    "pycharm": {
     "name": "#%%\n"
    }
   },
   "outputs": [],
   "source": [
    "import os\n",
    "os.chdir(\"..\")"
   ]
  },
  {
   "cell_type": "code",
   "execution_count": 4,
   "metadata": {
    "pycharm": {
     "name": "#%%\n"
    }
   },
   "outputs": [],
   "source": [
    "feats = parse_files_in_data(\"minigrid\", 4)"
   ]
  },
  {
   "cell_type": "code",
   "execution_count": 5,
   "metadata": {
    "pycharm": {
     "name": "#%%\n"
    }
   },
   "outputs": [],
   "source": [
    "feats = list(parse_csv(\"minigrid\"))\n"
   ]
  },
  {
   "cell_type": "code",
   "execution_count": 10,
   "outputs": [],
   "source": [
    "f0 = get_feat_sequence(feats, 1)\n"
   ],
   "metadata": {
    "collapsed": false,
    "pycharm": {
     "name": "#%%\n"
    }
   }
  },
  {
   "cell_type": "code",
   "execution_count": 11,
   "metadata": {
    "pycharm": {
     "name": "#%%\n"
    }
   },
   "outputs": [
    {
     "name": "stdout",
     "output_type": "stream",
     "text": [
      "Total size:83\n",
      "\u001B[35m[WARNING] Using segmented\u001B[0m\n",
      "\u001B[35m[WARNING] Using segmented\u001B[0m\n",
      "Generating model with 2 states\n",
      "CE found :\n",
      "[[1, 1]]\n",
      "Running CBMC...............\n",
      "\u001B[32mFinal Generated model\u001B[0m\n",
      "\u001B[32m[[1, 1, 2], [2, 2, 2]]\u001B[0m\n",
      "\n",
      "\n",
      "Time taken: 0.14736318588256836\n",
      "\u001B[35m[WARNING] Using segmented\u001B[0m\n",
      "\u001B[35m[WARNING] Using segmented\u001B[0m\n",
      "Generating model with 2 states\n",
      "CE found :\n",
      "[[1, 3], [3, 1], [3, 3]]\n",
      "Running CBMC...............\n",
      "No model, increasing number of states to 3\n",
      "Running CBMC...............\n",
      "\u001B[32mFinal Generated model\u001B[0m\n",
      "\u001B[32m[[1, 1, 2], [2, 2, 2], [3, 2, 3], [3, 3, 2]]\u001B[0m\n",
      "\n",
      "\n",
      "Time taken: 0.38273024559020996\n",
      "Generating model with 3 states\n",
      "CE found :\n",
      "[[1, 3], [3, 1], [3, 3]]\n",
      "Running CBMC...............\n",
      "\u001B[32mFinal Generated model\u001B[0m\n",
      "\u001B[32m[[1, 1, 2], [2, 2, 2], [2, 2, 3], [3, 2, 3], [3, 3, 2]]\u001B[0m\n",
      "\n",
      "\n",
      "Time taken: 0.5472970008850098\n",
      "\u001B[35m[WARNING] Using segmented\u001B[0m\n",
      "\u001B[35m[WARNING] Using segmented\u001B[0m\n",
      "\n",
      "\n",
      "\n",
      "------------- Verifying: ----------------------------\n",
      "\u001B[32m\n",
      "All behaviors present\u001B[0m\n",
      "\u001B[32mFinal Generated model\u001B[0m\n",
      "\u001B[32m[[1, 1, 2], [2, 2, 2], [2, 2, 3], [3, 2, 3], [3, 3, 2]]\u001B[0m\n",
      "Total size:86\n",
      "\u001B[35m[WARNING] Using segmented\u001B[0m\n",
      "\u001B[35m[WARNING] Using segmented\u001B[0m\n",
      "\u001B[35m[WARNING] Using segmented\u001B[0m\n",
      "\u001B[35m[WARNING] Using segmented\u001B[0m\n",
      "Generating model with 3 states\n",
      "CE found :\n",
      "[[1, 3], [3, 1]]\n",
      "Running CBMC...............\n",
      "\u001B[32mFinal Generated model\u001B[0m\n",
      "\u001B[32m[[1, 1, 2], [2, 2, 2], [2, 2, 3], [3, 2, 3], [3, 3, 2], [3, 3, 3]]\u001B[0m\n",
      "\n",
      "\n",
      "Time taken: 0.7258560657501221\n",
      "\u001B[35m[WARNING] Using segmented\u001B[0m\n",
      "\u001B[35m[WARNING] Using segmented\u001B[0m\n",
      "\n",
      "\n",
      "\n",
      "------------- Verifying: ----------------------------\n",
      "\u001B[32m\n",
      "All behaviors present\u001B[0m\n",
      "\u001B[32mFinal Generated model\u001B[0m\n",
      "\u001B[32m[[1, 1, 2], [2, 2, 2], [2, 2, 3], [3, 2, 3], [3, 3, 2], [3, 3, 3]]\u001B[0m\n",
      "Total size:164\n",
      "\u001B[35m[WARNING] Using segmented\u001B[0m\n",
      "\u001B[35m[WARNING] Using segmented\u001B[0m\n",
      "\u001B[35m[WARNING] Using segmented\u001B[0m\n",
      "Generating model with 3 states\n",
      "CE found :\n",
      "[[1, 4], [3, 4], [4, 1], [4, 3]]\n",
      "Running CBMC...............\n",
      "No model, increasing number of states to 4\n",
      "Running CBMC...............\n",
      "\u001B[32mFinal Generated model\u001B[0m\n",
      "\u001B[32m[[1, 1, 2], [2, 2, 2], [2, 2, 3], [2, 2, 4], [3, 2, 3], [3, 3, 2], [3, 3, 3], [4, 2, 2], [4, 4, 2], [4, 4, 4]]\u001B[0m\n",
      "\n",
      "\n",
      "Time taken: 1.092332124710083\n",
      "\n",
      "\n",
      "\n",
      "------------- Verifying: ----------------------------\n",
      "\u001B[32m\n",
      "All behaviors present\u001B[0m\n",
      "\u001B[32mFinal Generated model\u001B[0m\n",
      "\u001B[32m[[1, 1, 2], [2, 2, 2], [2, 2, 3], [2, 2, 4], [3, 2, 3], [3, 3, 2], [3, 3, 3], [4, 2, 2], [4, 4, 2], [4, 4, 4]]\u001B[0m\n",
      "Total size:101\n",
      "Generating model with 4 states\n",
      "CE found :\n",
      "[[1, 3], [1, 4], [3, 1], [4, 1]]\n",
      "Running CBMC...............\n",
      "\u001B[32mFinal Generated model\u001B[0m\n",
      "\u001B[32m[[1, 1, 2], [2, 2, 2], [2, 2, 3], [2, 2, 4], [3, 2, 3], [3, 3, 2], [3, 3, 3], [3, 4, 4], [4, 2, 2], [4, 3, 2], [4, 3, 3], [4, 4, 2], [4, 4, 4]]\u001B[0m\n",
      "\n",
      "\n",
      "Time taken: 1.3394973278045654\n",
      "\n",
      "\n",
      "\n",
      "------------- Verifying: ----------------------------\n",
      "\u001B[32m\n",
      "All behaviors present\u001B[0m\n",
      "\u001B[32mFinal Generated model\u001B[0m\n",
      "\u001B[32m[[1, 1, 2], [2, 2, 2], [2, 2, 3], [2, 2, 4], [3, 2, 3], [3, 3, 2], [3, 3, 3], [3, 4, 4], [4, 2, 2], [4, 3, 2], [4, 3, 3], [4, 4, 2], [4, 4, 4]]\u001B[0m\n",
      "Total size:138\n",
      "Generating model with 4 states\n",
      "CE found :\n",
      "[[1, 3], [1, 4], [1, 5], [3, 1], [3, 5], [4, 1], [4, 5], [5, 1], [5, 3], [5, 4], [5, 5]]\n",
      "Running CBMC...............\n",
      "No model, increasing number of states to 5\n",
      "Running CBMC...............\n",
      "\u001B[32mFinal Generated model\u001B[0m\n",
      "\u001B[32m[[1, 1, 2], [2, 2, 2], [2, 2, 3], [2, 2, 4], [2, 2, 5], [3, 2, 3], [3, 3, 2], [3, 3, 3], [3, 4, 4], [4, 2, 2], [4, 3, 2], [4, 3, 3], [4, 4, 2], [4, 4, 4], [5, 3, 2], [5, 5, 2]]\u001B[0m\n",
      "\n",
      "\n",
      "Time taken: 1.8331642150878906\n",
      "\u001B[35m[WARNING] Using segmented\u001B[0m\n",
      "\n",
      "\n",
      "\n",
      "------------- Verifying: ----------------------------\n",
      "\u001B[32m\n",
      "All behaviors present\u001B[0m\n",
      "\u001B[32mFinal Generated model\u001B[0m\n",
      "\u001B[32m[[1, 1, 2], [2, 2, 2], [2, 2, 3], [2, 2, 4], [2, 2, 5], [3, 2, 3], [3, 3, 2], [3, 3, 3], [3, 4, 4], [4, 2, 2], [4, 3, 2], [4, 3, 3], [4, 4, 2], [4, 4, 4], [5, 3, 2], [5, 5, 2]]\u001B[0m\n",
      "Total size:108\n",
      "Generating model with 5 states\n",
      "CE found :\n",
      "[[1, 4], [1, 5], [3, 1], [3, 5], [4, 1], [4, 5], [5, 1], [5, 3], [5, 4]]\n",
      "Running CBMC...............\n",
      "No model, increasing number of states to 6\n",
      "Running CBMC...............\n",
      "\u001B[32mFinal Generated model\u001B[0m\n",
      "\u001B[32m[[1, 1, 2], [1, 1, 6], [2, 2, 2], [2, 2, 3], [2, 2, 4], [2, 2, 5], [3, 2, 3], [3, 3, 2], [3, 3, 3], [3, 4, 3], [3, 4, 4], [4, 2, 2], [4, 2, 5], [4, 3, 2], [4, 3, 3], [4, 4, 2], [4, 4, 3], [4, 4, 4], [5, 2, 4], [5, 3, 2], [5, 5, 2], [6, 3, 4]]\u001B[0m\n",
      "\n",
      "\n",
      "Time taken: 2.480072259902954\n",
      "\n",
      "\n",
      "\n",
      "------------- Verifying: ----------------------------\n",
      "\u001B[32m\n",
      "All behaviors present\u001B[0m\n",
      "\u001B[32mFinal Generated model\u001B[0m\n",
      "\u001B[32m[[1, 1, 2], [1, 1, 6], [2, 2, 2], [2, 2, 3], [2, 2, 4], [2, 2, 5], [3, 2, 3], [3, 3, 2], [3, 3, 3], [3, 4, 3], [3, 4, 4], [4, 2, 2], [4, 2, 5], [4, 3, 2], [4, 3, 3], [4, 4, 2], [4, 4, 3], [4, 4, 4], [5, 2, 4], [5, 3, 2], [5, 5, 2], [6, 3, 4]]\u001B[0m\n",
      "NFA states:  6\n",
      "\n",
      "\n",
      "Converting NFA to DFA..........\n",
      "\u001B[32m\n",
      "All behaviors present\u001B[0m\n",
      "\u001B[32mFinal Generated model\u001B[0m\n",
      "\u001B[32m[[1, 'start', 2], [2, 26, 5], [2, 2, 3], [3, 26, 5], [3, 2, 3], [3, 31, 3], [4, 26, 5], [5, 26, 5], [5, 2, 3], [5, 31, 3], [5, 3, 4]]\u001B[0m\n"
     ]
    }
   ],
   "source": [
    "ds_state = wrapped_dfa_init(get_default_hparams())\n",
    "dfa, init_state, ds_state = wrapped_dfa_update(f0, ds_state)\n",
    "\n"
   ]
  },
  {
   "cell_type": "code",
   "execution_count": 12,
   "outputs": [
    {
     "data": {
      "text/plain": "'test.gv.pdf'"
     },
     "execution_count": 12,
     "metadata": {},
     "output_type": "execute_result"
    }
   ],
   "source": [
    "graph = nodes_to_graph(dfa, comment=\"Feature 0\")\n",
    "graph.render(\"test.gv\", view=True)"
   ],
   "metadata": {
    "collapsed": false,
    "pycharm": {
     "name": "#%%\n"
    }
   }
  }
 ],
 "metadata": {
  "kernelspec": {
   "display_name": "Python 3 (ipykernel)",
   "language": "python",
   "name": "python3"
  },
  "language_info": {
   "codemirror_mode": {
    "name": "ipython",
    "version": 3
   },
   "file_extension": ".py",
   "mimetype": "text/x-python",
   "name": "python",
   "nbconvert_exporter": "python",
   "pygments_lexer": "ipython3",
   "version": "3.8.13"
  }
 },
 "nbformat": 4,
 "nbformat_minor": 1
}